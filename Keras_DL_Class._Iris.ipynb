{
 "cells": [
  {
   "cell_type": "code",
   "execution_count": 18,
   "id": "4e2369a8",
   "metadata": {},
   "outputs": [],
   "source": [
    "#İRİS VERİ SETİ İLE ÖRNEK UYGULAMA"
   ]
  },
  {
   "cell_type": "code",
   "execution_count": 19,
   "id": "728be5db",
   "metadata": {},
   "outputs": [],
   "source": [
    "#Gerekli kütüphaneleri import ediyoruz."
   ]
  },
  {
   "cell_type": "code",
   "execution_count": 20,
   "id": "f876bae4",
   "metadata": {},
   "outputs": [],
   "source": [
    "import pandas as pd\n",
    "import numpy as np\n",
    "import tensorflow as tf\n",
    "from tensorflow.keras.utils import to_categorical\n",
    "import matplotlib.pyplot as plt\n",
    "from sklearn.preprocessing import LabelEncoder\n",
    "from sklearn.preprocessing import MinMaxScaler\n",
    "from sklearn.model_selection import train_test_split\n",
    "#from keras.utils import np_utils\n",
    "from keras.models import Sequential\n",
    "from keras.layers import Dense\n",
    "from keras.layers import Dropout\n",
    "from sklearn import datasets"
   ]
  },
  {
   "cell_type": "code",
   "execution_count": 21,
   "id": "5f61fe47",
   "metadata": {},
   "outputs": [],
   "source": [
    "# veriyi görselleştiriyoruz."
   ]
  },
  {
   "cell_type": "code",
   "execution_count": 22,
   "id": "51ae2482",
   "metadata": {
    "scrolled": true
   },
   "outputs": [
    {
     "name": "stdout",
     "output_type": "stream",
     "text": [
      "   Id  SepalLengthCm  SepalWidthCm  PetalLengthCm  PetalWidthCm      Species\n",
      "0   1            5.1           3.5            1.4           0.2  Iris-setosa\n",
      "1   2            4.9           3.0            1.4           0.2  Iris-setosa\n",
      "2   3            4.7           3.2            1.3           0.2  Iris-setosa\n",
      "3   4            4.6           3.1            1.5           0.2  Iris-setosa\n",
      "4   5            5.0           3.6            1.4           0.2  Iris-setosa\n"
     ]
    }
   ],
   "source": [
    "data = pd.read_csv(\"/Users/mustafacitak/Desktop/Python/DL_Calisma/Iris.csv\")\n",
    "\n",
    "print(data.head())"
   ]
  },
  {
   "cell_type": "code",
   "execution_count": 23,
   "id": "13e99ab8",
   "metadata": {},
   "outputs": [],
   "source": [
    "#Verinin boyutlarını inceliyoruz."
   ]
  },
  {
   "cell_type": "code",
   "execution_count": 24,
   "id": "983a3cf0",
   "metadata": {
    "scrolled": true
   },
   "outputs": [
    {
     "name": "stdout",
     "output_type": "stream",
     "text": [
      "Verinin boyutları: \n",
      " (150, 6)\n"
     ]
    }
   ],
   "source": [
    "print (\"Verinin boyutları: \\n\", data.shape)"
   ]
  },
  {
   "cell_type": "code",
   "execution_count": 25,
   "id": "38cf38c1",
   "metadata": {},
   "outputs": [],
   "source": [
    "#veri setindeki hedef değişkeni \"Species\" sütunundan ayrılır ve \"X\" değişkenine atanır. \n",
    "#Yani, \"X\" değişkeni, veri setinin tüm sütunlarını içerir, ancak \"Species\" sütunu hariçtir.\n",
    "#-----\n",
    "#Ayrıca, hedef değişkenin sadece \"Species\" sütununu içeren \"y\" değişkeni oluşturulur. \n",
    "#Bu, modelin eğitim sırasında öğrenmesi gereken hedef değişkeni değerleridir. \n",
    "#\"y\" değişkeni, \"Species\" sütunundaki her satırın değerini içerir."
   ]
  },
  {
   "cell_type": "code",
   "execution_count": 26,
   "id": "310b0dff",
   "metadata": {},
   "outputs": [],
   "source": [
    "#sınıf özniteliğinin ayrılması\n",
    "X = data.drop(\"Species\", axis=1)\n",
    "y = data[\"Species\"]"
   ]
  },
  {
   "cell_type": "code",
   "execution_count": 27,
   "id": "b2627d61",
   "metadata": {},
   "outputs": [],
   "source": [
    "#İlk olarak, LabelEncoder kullanarak sınıf etiketlerini sayısal formata dönüştürülmektedir. \n",
    "#Bu, her bir sınıf etiketini bir tamsayıya dönüştürmek anlamına gelir. \n",
    "#Bu adım, genellikle sınıflandırma algoritmalarının girdi olarak sayısal değerler beklemesi nedeniyle gereklidir.\n",
    "#---------\n",
    "#Sonra, to_categorical fonksiyonu kullanılarak bu sayısal etiketler one-hot encoding yöntemiyle dönüştürülür. \n",
    "#Bu, her bir sınıf etiketini bir vektöre dönüştürür, \n",
    "#böylece bir sınıf etiketi 0 ve 1'lerden oluşan bir vektör haline gelir. \n",
    "#Bu, çok sınıflı sınıflandırma problemlerinde kullanılan bir yaygın dönüşüm yöntemidir."
   ]
  },
  {
   "cell_type": "code",
   "execution_count": 28,
   "id": "20e490b1",
   "metadata": {},
   "outputs": [],
   "source": [
    "dönüştürüldü = LabelEncoder()\n",
    "y = dönüştürüldü.fit_transform(y)\n",
    "y = to_categorical(y)"
   ]
  },
  {
   "cell_type": "code",
   "execution_count": 29,
   "id": "e712665b",
   "metadata": {},
   "outputs": [],
   "source": [
    "#X ve y değişkenleri, genellikle özellikler ve hedef değişken olarak adlandırılan veri setinin özelliklerini\n",
    "# ve hedef sütununu içerir. test_size=0.2 parametresi, veri setinin %20'sini test veri kümesi olarak ayırmak \n",
    "#için kullanılır. Bu, genellikle verinin %80'ini eğitimde ve %20'sini testte kullanmak için yapılır."
   ]
  },
  {
   "cell_type": "code",
   "execution_count": 30,
   "id": "c9670863",
   "metadata": {},
   "outputs": [],
   "source": [
    "X_train, X_test, y_train, y_test = train_test_split(X, y, test_size=0.2,)"
   ]
  },
  {
   "cell_type": "code",
   "execution_count": 31,
   "id": "18bd2b55",
   "metadata": {},
   "outputs": [],
   "source": [
    "#MinMaxScaler sınıfı, veri kümesindeki özellikleri belirli bir aralığa ölçeklemek için kullanılır. \n",
    "#Bu aralık, feature_range parametresiyle belirlenir. Varsayılan olarak, bu aralık (0, 1) olarak ayarlanmıştır.\n",
    "#Bu, tüm özellik değerlerini 0 ile 1 arasına ölçekler.\n",
    "#------\n",
    "#fit_transform fonksiyonu, önce eğitim veri kümesine uygulanır (X_train),\n",
    "#ardından test veri kümesine uygulanır (X_test). Bu işlem, \n",
    "#her iki veri kümesinin özelliklerini aynı ölçekleme aralığına getirir, \n",
    "#böylece modelin daha iyi eğitilmesi ve doğru sonuçlar elde edilmesi sağlanır."
   ]
  },
  {
   "cell_type": "code",
   "execution_count": 32,
   "id": "f5c89ea1",
   "metadata": {},
   "outputs": [],
   "source": [
    "işlem = MinMaxScaler(feature_range = (0, 1))\n",
    "X_train = işlem.fit_transform(X_train)\n",
    "X_test = işlem.fit_transform(X_test)"
   ]
  },
  {
   "cell_type": "code",
   "execution_count": 33,
   "id": "7231b78d",
   "metadata": {},
   "outputs": [],
   "source": [
    "#Keras Modelleme"
   ]
  },
  {
   "cell_type": "code",
   "execution_count": 34,
   "id": "9490d00d",
   "metadata": {},
   "outputs": [],
   "source": [
    "#Sequential sınıfı, sıralı bir model oluşturmak için kullanılır. \n",
    "#Bu model, katmanlarının sırasına göre birbirine bağlıdır.\n",
    "#------\n",
    "#Dense sınıfı, tam bağlantılı (fully connected) bir katman oluşturur. \n",
    "#İlk parametre, katmandaki nöron sayısını belirtir. \n",
    "#İkinci parametre, katmanın girdi şeklini belirtir. \n",
    "#input_shape parametresi, katmanın girdi şeklini belirler. \n",
    "#Bu örnekte, girdi şekli (5,) şeklindedir, yani 5 özellikten oluşan bir giriş vektörü beklenir.\n",
    "#Üçüncü parametre, katmanın aktivasyon fonksiyonunu belirtir. \n",
    "#Bu örnekte, \"relu\" (Rectified Linear Unit) aktivasyon fonksiyonu kullanılmıştır. \n",
    "#\"relu\" fonksiyonu, negatif girişleri sıfır olarak, pozitif girişleri ise doğrudan döndürerek etkinleştirir.\n",
    "#------\n",
    "#Modelin ikinci katmanında, 64 nörona sahip bir gizli katman kullanılır. \n",
    "#Bu katmanın girişi, ilk katmandan gelen çıktıdır.\n",
    "#Bu katman da \"relu\" aktivasyon fonksiyonunu kullanır.\n",
    "#--------\n",
    "#Modelin üçüncü katmanı, 3 nörona ve \"softmax\" aktivasyon fonksiyonuna sahip bir çıkış katmanıdır. \n",
    "#Bu katman, veri kümesindeki sınıf sayısına (3) göre ayarlanır ve modelin sınıflandırma yapmasını sağlar.\n",
    "#\"softmax\" fonksiyonu, çıktıları olasılık dağılımına dönüştürür ve en yüksek olasılığa sahip sınıfı seçer.\n"
   ]
  },
  {
   "cell_type": "code",
   "execution_count": 35,
   "id": "52d55a83",
   "metadata": {},
   "outputs": [],
   "source": [
    "model = Sequential([\n",
    "    Dense(32, input_shape=(5,), activation='relu'),\n",
    "    Dense(64, activation='relu'),\n",
    "    Dense(3, activation='softmax')\n",
    "])"
   ]
  },
  {
   "cell_type": "code",
   "execution_count": 36,
   "id": "9b03dd39",
   "metadata": {},
   "outputs": [],
   "source": [
    "#Keras ile oluşturulan bir modelin özetini görüntüler.\n",
    "#Bu özet, modelin katmanlarını, her katmandaki nöron sayısını,\n",
    "#katmanların parametre sayısını ve toplam parametre sayısını içerir.\n",
    "#-----\n",
    "#Bu örnekte, modelin adı \"sequential_5\" olarak belirlenmiştir.\n",
    "#Modelde toplam 3 katman bulunmaktadır: \n",
    "#İlk katmanda 32 nöron, ikinci katmanda 64 nöron ve üçüncü katmanda 3 nöron bulunmaktadır. \n",
    "#Toplamda 2,499 parametre (ağırlıklar ve biaslar) vardır. \n",
    "#Bu parametreler, eğitim sırasında güncellenirken kullanılır."
   ]
  },
  {
   "cell_type": "code",
   "execution_count": 37,
   "id": "c87aae41",
   "metadata": {},
   "outputs": [
    {
     "name": "stdout",
     "output_type": "stream",
     "text": [
      "Model: \"sequential_1\"\n",
      "_________________________________________________________________\n",
      " Layer (type)                Output Shape              Param #   \n",
      "=================================================================\n",
      " dense_3 (Dense)             (None, 32)                192       \n",
      "                                                                 \n",
      " dense_4 (Dense)             (None, 64)                2112      \n",
      "                                                                 \n",
      " dense_5 (Dense)             (None, 3)                 195       \n",
      "                                                                 \n",
      "=================================================================\n",
      "Total params: 2499 (9.76 KB)\n",
      "Trainable params: 2499 (9.76 KB)\n",
      "Non-trainable params: 0 (0.00 Byte)\n",
      "_________________________________________________________________\n"
     ]
    }
   ],
   "source": [
    "model.summary()"
   ]
  },
  {
   "cell_type": "code",
   "execution_count": 38,
   "id": "345c27f6",
   "metadata": {},
   "outputs": [],
   "source": [
    "#Keras modelini bir görselleştirme olarak kaydetmek için kullanılır. \n",
    "#Bu işlev bir modeli bir görselleştirme olarak kaydeder ve verilen dosya adıyla belirtilen bir dosyaya kaydeder.\n",
    "#Ayrıca show_shapes ve show_layer_names parametreleri ile \n",
    "#katman şekillerini ve katman isimlerini gösterip göstermemeyi kontrol edebilirsiniz."
   ]
  },
  {
   "cell_type": "code",
   "execution_count": 39,
   "id": "2551b3b3",
   "metadata": {},
   "outputs": [
    {
     "data": {
      "image/png": "[encoded data removed]",
      "text/plain": [
       "<IPython.core.display.Image object>"
      ]
     },
     "execution_count": 39,
     "metadata": {},
     "output_type": "execute_result"
    }
   ],
   "source": [
    "tf.keras.utils.plot_model(\n",
    "    model, \"Iris-model.png\",\n",
    "    show_shapes=True,\n",
    "    show_layer_names=True)"
   ]
  },
  {
   "cell_type": "code",
   "execution_count": 40,
   "id": "63c886fe",
   "metadata": {},
   "outputs": [],
   "source": [
    "#modelin derlenmesi\n",
    "\n",
    "# model.compile() yöntemi, modelin derlenmesi için kullanılır.\n",
    "#Derleme, modelin nasıl eğitileceğini tanımlar, hangi kayıp fonksiyonunun kullanılacağını, \n",
    "#hangi optimizasyon algoritmasının kullanılacağını ve hangi metriklerin izleneceğini belirler."
   ]
  },
  {
   "cell_type": "code",
   "execution_count": 41,
   "id": "a9f3e287",
   "metadata": {},
   "outputs": [],
   "source": [
    "model.compile (\n",
    "loss = \"categorical_crossentropy\",\n",
    "optimizer = \"adam\",\n",
    "metrics = [\"accuracy\"])"
   ]
  },
  {
   "cell_type": "code",
   "execution_count": 42,
   "id": "98ec1b28",
   "metadata": {},
   "outputs": [],
   "source": [
    "#Modelin egitilmesi"
   ]
  },
  {
   "cell_type": "code",
   "execution_count": 43,
   "id": "ea75edfb",
   "metadata": {},
   "outputs": [],
   "source": [
    "#Bu kodda, model, eğitim veri seti (X_train) ve hedef etiketler (y_train) üzerinde belirtilen \n",
    "#sayıda epoch (100) için eğitilir. Her epoch, eğitim verileri kullanılarak modelin ağırlıklarının \n",
    "#güncellenmesi ve modelin kaybını (loss) azaltması amaçlanır. \"verbose\" argümanı, eğitim sırasında\n",
    "#gösterilen çıktının ayrıntı düzeyini kontrol eder. \"batch_size\" argümanı, her bir eğitim adımında \n",
    "#kullanılan örnek sayısını belirler. \"validation_split\" argümanı, eğitim veri setinin bir bölümünün \n",
    "#modelin performansını değerlendirmek için kullanılacağı yüzdeyi belirler. \n",
    "#Bu, eğitim sırasında modelin aşırı uyumunu (overfitting) kontrol etmek için kullanılır.\n",
    "#batch_size: Her bir eğitim adımında kaç veri örneğinin kullanılacağını belirten bir tam sayı. \n",
    "#Örnekler küçük gruplar halinde ağa verilir ve her bir grup için bir güncelleme yapılır."
   ]
  },
  {
   "cell_type": "code",
   "execution_count": 52,
   "id": "6ef6f643",
   "metadata": {},
   "outputs": [
    {
     "name": "stdout",
     "output_type": "stream",
     "text": [
      "Epoch 1/100\n",
      "6/6 - 0s - loss: 0.0031 - accuracy: 1.0000 - val_loss: 0.0012 - val_accuracy: 1.0000 - 32ms/epoch - 5ms/step\n",
      "Epoch 2/100\n",
      "6/6 - 0s - loss: 0.0030 - accuracy: 1.0000 - val_loss: 0.0011 - val_accuracy: 1.0000 - 10ms/epoch - 2ms/step\n",
      "Epoch 3/100\n",
      "6/6 - 0s - loss: 0.0029 - accuracy: 1.0000 - val_loss: 0.0011 - val_accuracy: 1.0000 - 12ms/epoch - 2ms/step\n",
      "Epoch 4/100\n",
      "6/6 - 0s - loss: 0.0029 - accuracy: 1.0000 - val_loss: 0.0012 - val_accuracy: 1.0000 - 9ms/epoch - 2ms/step\n",
      "Epoch 5/100\n",
      "6/6 - 0s - loss: 0.0028 - accuracy: 1.0000 - val_loss: 0.0012 - val_accuracy: 1.0000 - 9ms/epoch - 2ms/step\n",
      "Epoch 6/100\n",
      "6/6 - 0s - loss: 0.0028 - accuracy: 1.0000 - val_loss: 0.0011 - val_accuracy: 1.0000 - 10ms/epoch - 2ms/step\n",
      "Epoch 7/100\n",
      "6/6 - 0s - loss: 0.0028 - accuracy: 1.0000 - val_loss: 0.0011 - val_accuracy: 1.0000 - 9ms/epoch - 2ms/step\n",
      "Epoch 8/100\n",
      "6/6 - 0s - loss: 0.0028 - accuracy: 1.0000 - val_loss: 0.0012 - val_accuracy: 1.0000 - 9ms/epoch - 1ms/step\n",
      "Epoch 9/100\n",
      "6/6 - 0s - loss: 0.0027 - accuracy: 1.0000 - val_loss: 0.0011 - val_accuracy: 1.0000 - 9ms/epoch - 1ms/step\n",
      "Epoch 10/100\n",
      "6/6 - 0s - loss: 0.0027 - accuracy: 1.0000 - val_loss: 0.0010 - val_accuracy: 1.0000 - 9ms/epoch - 1ms/step\n",
      "Epoch 11/100\n",
      "6/6 - 0s - loss: 0.0027 - accuracy: 1.0000 - val_loss: 9.8852e-04 - val_accuracy: 1.0000 - 9ms/epoch - 1ms/step\n",
      "Epoch 12/100\n",
      "6/6 - 0s - loss: 0.0026 - accuracy: 1.0000 - val_loss: 0.0010 - val_accuracy: 1.0000 - 9ms/epoch - 1ms/step\n",
      "Epoch 13/100\n",
      "6/6 - 0s - loss: 0.0026 - accuracy: 1.0000 - val_loss: 0.0011 - val_accuracy: 1.0000 - 9ms/epoch - 1ms/step\n",
      "Epoch 14/100\n",
      "6/6 - 0s - loss: 0.0026 - accuracy: 1.0000 - val_loss: 0.0011 - val_accuracy: 1.0000 - 9ms/epoch - 2ms/step\n",
      "Epoch 15/100\n",
      "6/6 - 0s - loss: 0.0026 - accuracy: 1.0000 - val_loss: 0.0010 - val_accuracy: 1.0000 - 9ms/epoch - 1ms/step\n",
      "Epoch 16/100\n",
      "6/6 - 0s - loss: 0.0026 - accuracy: 1.0000 - val_loss: 9.4735e-04 - val_accuracy: 1.0000 - 9ms/epoch - 1ms/step\n",
      "Epoch 17/100\n",
      "6/6 - 0s - loss: 0.0025 - accuracy: 1.0000 - val_loss: 9.8905e-04 - val_accuracy: 1.0000 - 10ms/epoch - 2ms/step\n",
      "Epoch 18/100\n",
      "6/6 - 0s - loss: 0.0025 - accuracy: 1.0000 - val_loss: 0.0010 - val_accuracy: 1.0000 - 9ms/epoch - 1ms/step\n",
      "Epoch 19/100\n",
      "6/6 - 0s - loss: 0.0025 - accuracy: 1.0000 - val_loss: 9.9956e-04 - val_accuracy: 1.0000 - 9ms/epoch - 1ms/step\n",
      "Epoch 20/100\n",
      "6/6 - 0s - loss: 0.0024 - accuracy: 1.0000 - val_loss: 9.5763e-04 - val_accuracy: 1.0000 - 9ms/epoch - 1ms/step\n",
      "Epoch 21/100\n",
      "6/6 - 0s - loss: 0.0024 - accuracy: 1.0000 - val_loss: 9.1216e-04 - val_accuracy: 1.0000 - 9ms/epoch - 1ms/step\n",
      "Epoch 22/100\n",
      "6/6 - 0s - loss: 0.0024 - accuracy: 1.0000 - val_loss: 9.0474e-04 - val_accuracy: 1.0000 - 9ms/epoch - 1ms/step\n",
      "Epoch 23/100\n",
      "6/6 - 0s - loss: 0.0024 - accuracy: 1.0000 - val_loss: 9.5883e-04 - val_accuracy: 1.0000 - 9ms/epoch - 1ms/step\n",
      "Epoch 24/100\n",
      "6/6 - 0s - loss: 0.0024 - accuracy: 1.0000 - val_loss: 9.8157e-04 - val_accuracy: 1.0000 - 9ms/epoch - 2ms/step\n",
      "Epoch 25/100\n",
      "6/6 - 0s - loss: 0.0024 - accuracy: 1.0000 - val_loss: 8.8314e-04 - val_accuracy: 1.0000 - 9ms/epoch - 1ms/step\n",
      "Epoch 26/100\n",
      "6/6 - 0s - loss: 0.0024 - accuracy: 1.0000 - val_loss: 8.3567e-04 - val_accuracy: 1.0000 - 9ms/epoch - 1ms/step\n",
      "Epoch 27/100\n",
      "6/6 - 0s - loss: 0.0023 - accuracy: 1.0000 - val_loss: 8.7766e-04 - val_accuracy: 1.0000 - 10ms/epoch - 2ms/step\n",
      "Epoch 28/100\n",
      "6/6 - 0s - loss: 0.0024 - accuracy: 1.0000 - val_loss: 9.6212e-04 - val_accuracy: 1.0000 - 9ms/epoch - 2ms/step\n",
      "Epoch 29/100\n",
      "6/6 - 0s - loss: 0.0023 - accuracy: 1.0000 - val_loss: 8.7495e-04 - val_accuracy: 1.0000 - 9ms/epoch - 1ms/step\n",
      "Epoch 30/100\n",
      "6/6 - 0s - loss: 0.0022 - accuracy: 1.0000 - val_loss: 8.2214e-04 - val_accuracy: 1.0000 - 10ms/epoch - 2ms/step\n",
      "Epoch 31/100\n",
      "6/6 - 0s - loss: 0.0022 - accuracy: 1.0000 - val_loss: 8.4367e-04 - val_accuracy: 1.0000 - 10ms/epoch - 2ms/step\n",
      "Epoch 32/100\n",
      "6/6 - 0s - loss: 0.0023 - accuracy: 1.0000 - val_loss: 9.1414e-04 - val_accuracy: 1.0000 - 9ms/epoch - 2ms/step\n",
      "Epoch 33/100\n",
      "6/6 - 0s - loss: 0.0022 - accuracy: 1.0000 - val_loss: 8.6427e-04 - val_accuracy: 1.0000 - 10ms/epoch - 2ms/step\n",
      "Epoch 34/100\n",
      "6/6 - 0s - loss: 0.0021 - accuracy: 1.0000 - val_loss: 8.2834e-04 - val_accuracy: 1.0000 - 9ms/epoch - 2ms/step\n",
      "Epoch 35/100\n",
      "6/6 - 0s - loss: 0.0021 - accuracy: 1.0000 - val_loss: 7.9453e-04 - val_accuracy: 1.0000 - 9ms/epoch - 2ms/step\n",
      "Epoch 36/100\n",
      "6/6 - 0s - loss: 0.0021 - accuracy: 1.0000 - val_loss: 8.0664e-04 - val_accuracy: 1.0000 - 9ms/epoch - 2ms/step\n",
      "Epoch 37/100\n",
      "6/6 - 0s - loss: 0.0021 - accuracy: 1.0000 - val_loss: 7.4856e-04 - val_accuracy: 1.0000 - 11ms/epoch - 2ms/step\n",
      "Epoch 38/100\n",
      "6/6 - 0s - loss: 0.0021 - accuracy: 1.0000 - val_loss: 7.8418e-04 - val_accuracy: 1.0000 - 9ms/epoch - 2ms/step\n",
      "Epoch 39/100\n",
      "6/6 - 0s - loss: 0.0020 - accuracy: 1.0000 - val_loss: 7.9178e-04 - val_accuracy: 1.0000 - 9ms/epoch - 2ms/step\n",
      "Epoch 40/100\n",
      "6/6 - 0s - loss: 0.0020 - accuracy: 1.0000 - val_loss: 8.0654e-04 - val_accuracy: 1.0000 - 10ms/epoch - 2ms/step\n",
      "Epoch 41/100\n",
      "6/6 - 0s - loss: 0.0020 - accuracy: 1.0000 - val_loss: 8.0199e-04 - val_accuracy: 1.0000 - 9ms/epoch - 2ms/step\n",
      "Epoch 42/100\n",
      "6/6 - 0s - loss: 0.0020 - accuracy: 1.0000 - val_loss: 7.4702e-04 - val_accuracy: 1.0000 - 9ms/epoch - 1ms/step\n",
      "Epoch 43/100\n",
      "6/6 - 0s - loss: 0.0020 - accuracy: 1.0000 - val_loss: 7.3200e-04 - val_accuracy: 1.0000 - 10ms/epoch - 2ms/step\n",
      "Epoch 44/100\n",
      "6/6 - 0s - loss: 0.0019 - accuracy: 1.0000 - val_loss: 7.6121e-04 - val_accuracy: 1.0000 - 9ms/epoch - 2ms/step\n",
      "Epoch 45/100\n",
      "6/6 - 0s - loss: 0.0020 - accuracy: 1.0000 - val_loss: 7.2801e-04 - val_accuracy: 1.0000 - 9ms/epoch - 1ms/step\n",
      "Epoch 46/100\n",
      "6/6 - 0s - loss: 0.0019 - accuracy: 1.0000 - val_loss: 7.1625e-04 - val_accuracy: 1.0000 - 9ms/epoch - 1ms/step\n",
      "Epoch 47/100\n",
      "6/6 - 0s - loss: 0.0019 - accuracy: 1.0000 - val_loss: 7.6253e-04 - val_accuracy: 1.0000 - 10ms/epoch - 2ms/step\n",
      "Epoch 48/100\n",
      "6/6 - 0s - loss: 0.0019 - accuracy: 1.0000 - val_loss: 7.7591e-04 - val_accuracy: 1.0000 - 9ms/epoch - 2ms/step\n",
      "Epoch 49/100\n",
      "6/6 - 0s - loss: 0.0019 - accuracy: 1.0000 - val_loss: 7.2062e-04 - val_accuracy: 1.0000 - 9ms/epoch - 2ms/step\n",
      "Epoch 50/100\n",
      "6/6 - 0s - loss: 0.0019 - accuracy: 1.0000 - val_loss: 6.5918e-04 - val_accuracy: 1.0000 - 9ms/epoch - 2ms/step\n",
      "Epoch 51/100\n",
      "6/6 - 0s - loss: 0.0019 - accuracy: 1.0000 - val_loss: 6.8425e-04 - val_accuracy: 1.0000 - 9ms/epoch - 2ms/step\n",
      "Epoch 52/100\n",
      "6/6 - 0s - loss: 0.0018 - accuracy: 1.0000 - val_loss: 6.9008e-04 - val_accuracy: 1.0000 - 9ms/epoch - 2ms/step\n",
      "Epoch 53/100\n",
      "6/6 - 0s - loss: 0.0018 - accuracy: 1.0000 - val_loss: 6.8742e-04 - val_accuracy: 1.0000 - 10ms/epoch - 2ms/step\n",
      "Epoch 54/100\n",
      "6/6 - 0s - loss: 0.0018 - accuracy: 1.0000 - val_loss: 6.9991e-04 - val_accuracy: 1.0000 - 14ms/epoch - 2ms/step\n",
      "Epoch 55/100\n",
      "6/6 - 0s - loss: 0.0018 - accuracy: 1.0000 - val_loss: 6.8665e-04 - val_accuracy: 1.0000 - 9ms/epoch - 2ms/step\n",
      "Epoch 56/100\n",
      "6/6 - 0s - loss: 0.0018 - accuracy: 1.0000 - val_loss: 6.4935e-04 - val_accuracy: 1.0000 - 10ms/epoch - 2ms/step\n",
      "Epoch 57/100\n",
      "6/6 - 0s - loss: 0.0018 - accuracy: 1.0000 - val_loss: 6.2678e-04 - val_accuracy: 1.0000 - 9ms/epoch - 2ms/step\n",
      "Epoch 58/100\n",
      "6/6 - 0s - loss: 0.0017 - accuracy: 1.0000 - val_loss: 6.6924e-04 - val_accuracy: 1.0000 - 9ms/epoch - 2ms/step\n",
      "Epoch 59/100\n",
      "6/6 - 0s - loss: 0.0017 - accuracy: 1.0000 - val_loss: 6.8992e-04 - val_accuracy: 1.0000 - 10ms/epoch - 2ms/step\n",
      "Epoch 60/100\n",
      "6/6 - 0s - loss: 0.0017 - accuracy: 1.0000 - val_loss: 6.4448e-04 - val_accuracy: 1.0000 - 10ms/epoch - 2ms/step\n",
      "Epoch 61/100\n",
      "6/6 - 0s - loss: 0.0017 - accuracy: 1.0000 - val_loss: 6.3419e-04 - val_accuracy: 1.0000 - 9ms/epoch - 2ms/step\n",
      "Epoch 62/100\n",
      "6/6 - 0s - loss: 0.0017 - accuracy: 1.0000 - val_loss: 6.5027e-04 - val_accuracy: 1.0000 - 9ms/epoch - 2ms/step\n",
      "Epoch 63/100\n",
      "6/6 - 0s - loss: 0.0018 - accuracy: 1.0000 - val_loss: 5.7584e-04 - val_accuracy: 1.0000 - 10ms/epoch - 2ms/step\n",
      "Epoch 64/100\n",
      "6/6 - 0s - loss: 0.0016 - accuracy: 1.0000 - val_loss: 5.9983e-04 - val_accuracy: 1.0000 - 9ms/epoch - 2ms/step\n",
      "Epoch 65/100\n",
      "6/6 - 0s - loss: 0.0016 - accuracy: 1.0000 - val_loss: 6.1111e-04 - val_accuracy: 1.0000 - 9ms/epoch - 1ms/step\n",
      "Epoch 66/100\n",
      "6/6 - 0s - loss: 0.0016 - accuracy: 1.0000 - val_loss: 6.1485e-04 - val_accuracy: 1.0000 - 9ms/epoch - 1ms/step\n"
     ]
    },
    {
     "name": "stdout",
     "output_type": "stream",
     "text": [
      "Epoch 67/100\n",
      "6/6 - 0s - loss: 0.0016 - accuracy: 1.0000 - val_loss: 6.2090e-04 - val_accuracy: 1.0000 - 9ms/epoch - 2ms/step\n",
      "Epoch 68/100\n",
      "6/6 - 0s - loss: 0.0016 - accuracy: 1.0000 - val_loss: 6.3618e-04 - val_accuracy: 1.0000 - 9ms/epoch - 1ms/step\n",
      "Epoch 69/100\n",
      "6/6 - 0s - loss: 0.0016 - accuracy: 1.0000 - val_loss: 5.8473e-04 - val_accuracy: 1.0000 - 9ms/epoch - 1ms/step\n",
      "Epoch 70/100\n",
      "6/6 - 0s - loss: 0.0016 - accuracy: 1.0000 - val_loss: 5.6965e-04 - val_accuracy: 1.0000 - 9ms/epoch - 1ms/step\n",
      "Epoch 71/100\n",
      "6/6 - 0s - loss: 0.0015 - accuracy: 1.0000 - val_loss: 5.6667e-04 - val_accuracy: 1.0000 - 9ms/epoch - 1ms/step\n",
      "Epoch 72/100\n",
      "6/6 - 0s - loss: 0.0016 - accuracy: 1.0000 - val_loss: 5.8289e-04 - val_accuracy: 1.0000 - 9ms/epoch - 1ms/step\n",
      "Epoch 73/100\n",
      "6/6 - 0s - loss: 0.0015 - accuracy: 1.0000 - val_loss: 5.5005e-04 - val_accuracy: 1.0000 - 9ms/epoch - 1ms/step\n",
      "Epoch 74/100\n",
      "6/6 - 0s - loss: 0.0015 - accuracy: 1.0000 - val_loss: 5.3057e-04 - val_accuracy: 1.0000 - 9ms/epoch - 1ms/step\n",
      "Epoch 75/100\n",
      "6/6 - 0s - loss: 0.0015 - accuracy: 1.0000 - val_loss: 5.4275e-04 - val_accuracy: 1.0000 - 9ms/epoch - 1ms/step\n",
      "Epoch 76/100\n",
      "6/6 - 0s - loss: 0.0015 - accuracy: 1.0000 - val_loss: 5.8778e-04 - val_accuracy: 1.0000 - 9ms/epoch - 1ms/step\n",
      "Epoch 77/100\n",
      "6/6 - 0s - loss: 0.0015 - accuracy: 1.0000 - val_loss: 5.4383e-04 - val_accuracy: 1.0000 - 8ms/epoch - 1ms/step\n",
      "Epoch 78/100\n",
      "6/6 - 0s - loss: 0.0015 - accuracy: 1.0000 - val_loss: 5.6273e-04 - val_accuracy: 1.0000 - 9ms/epoch - 1ms/step\n",
      "Epoch 79/100\n",
      "6/6 - 0s - loss: 0.0015 - accuracy: 1.0000 - val_loss: 5.4170e-04 - val_accuracy: 1.0000 - 8ms/epoch - 1ms/step\n",
      "Epoch 80/100\n",
      "6/6 - 0s - loss: 0.0014 - accuracy: 1.0000 - val_loss: 5.2355e-04 - val_accuracy: 1.0000 - 9ms/epoch - 1ms/step\n",
      "Epoch 81/100\n",
      "6/6 - 0s - loss: 0.0014 - accuracy: 1.0000 - val_loss: 5.3117e-04 - val_accuracy: 1.0000 - 9ms/epoch - 1ms/step\n",
      "Epoch 82/100\n",
      "6/6 - 0s - loss: 0.0014 - accuracy: 1.0000 - val_loss: 5.2459e-04 - val_accuracy: 1.0000 - 9ms/epoch - 1ms/step\n",
      "Epoch 83/100\n",
      "6/6 - 0s - loss: 0.0014 - accuracy: 1.0000 - val_loss: 5.0954e-04 - val_accuracy: 1.0000 - 9ms/epoch - 1ms/step\n",
      "Epoch 84/100\n",
      "6/6 - 0s - loss: 0.0014 - accuracy: 1.0000 - val_loss: 5.1361e-04 - val_accuracy: 1.0000 - 8ms/epoch - 1ms/step\n",
      "Epoch 85/100\n",
      "6/6 - 0s - loss: 0.0014 - accuracy: 1.0000 - val_loss: 5.1073e-04 - val_accuracy: 1.0000 - 9ms/epoch - 1ms/step\n",
      "Epoch 86/100\n",
      "6/6 - 0s - loss: 0.0014 - accuracy: 1.0000 - val_loss: 5.2280e-04 - val_accuracy: 1.0000 - 9ms/epoch - 1ms/step\n",
      "Epoch 87/100\n",
      "6/6 - 0s - loss: 0.0014 - accuracy: 1.0000 - val_loss: 5.0778e-04 - val_accuracy: 1.0000 - 9ms/epoch - 2ms/step\n",
      "Epoch 88/100\n",
      "6/6 - 0s - loss: 0.0014 - accuracy: 1.0000 - val_loss: 4.7578e-04 - val_accuracy: 1.0000 - 10ms/epoch - 2ms/step\n",
      "Epoch 89/100\n",
      "6/6 - 0s - loss: 0.0013 - accuracy: 1.0000 - val_loss: 4.7793e-04 - val_accuracy: 1.0000 - 9ms/epoch - 2ms/step\n",
      "Epoch 90/100\n",
      "6/6 - 0s - loss: 0.0013 - accuracy: 1.0000 - val_loss: 4.7132e-04 - val_accuracy: 1.0000 - 9ms/epoch - 1ms/step\n",
      "Epoch 91/100\n",
      "6/6 - 0s - loss: 0.0013 - accuracy: 1.0000 - val_loss: 4.7152e-04 - val_accuracy: 1.0000 - 9ms/epoch - 2ms/step\n",
      "Epoch 92/100\n",
      "6/6 - 0s - loss: 0.0013 - accuracy: 1.0000 - val_loss: 4.9283e-04 - val_accuracy: 1.0000 - 9ms/epoch - 2ms/step\n",
      "Epoch 93/100\n",
      "6/6 - 0s - loss: 0.0013 - accuracy: 1.0000 - val_loss: 5.0587e-04 - val_accuracy: 1.0000 - 9ms/epoch - 1ms/step\n",
      "Epoch 94/100\n",
      "6/6 - 0s - loss: 0.0013 - accuracy: 1.0000 - val_loss: 4.9755e-04 - val_accuracy: 1.0000 - 9ms/epoch - 1ms/step\n",
      "Epoch 95/100\n",
      "6/6 - 0s - loss: 0.0013 - accuracy: 1.0000 - val_loss: 4.6475e-04 - val_accuracy: 1.0000 - 9ms/epoch - 1ms/step\n",
      "Epoch 96/100\n",
      "6/6 - 0s - loss: 0.0013 - accuracy: 1.0000 - val_loss: 4.6204e-04 - val_accuracy: 1.0000 - 9ms/epoch - 1ms/step\n",
      "Epoch 97/100\n",
      "6/6 - 0s - loss: 0.0013 - accuracy: 1.0000 - val_loss: 4.5021e-04 - val_accuracy: 1.0000 - 9ms/epoch - 1ms/step\n",
      "Epoch 98/100\n",
      "6/6 - 0s - loss: 0.0013 - accuracy: 1.0000 - val_loss: 4.3492e-04 - val_accuracy: 1.0000 - 9ms/epoch - 1ms/step\n",
      "Epoch 99/100\n",
      "6/6 - 0s - loss: 0.0012 - accuracy: 1.0000 - val_loss: 4.6107e-04 - val_accuracy: 1.0000 - 9ms/epoch - 1ms/step\n",
      "Epoch 100/100\n",
      "6/6 - 0s - loss: 0.0012 - accuracy: 1.0000 - val_loss: 4.6650e-04 - val_accuracy: 1.0000 - 9ms/epoch - 1ms/step\n"
     ]
    }
   ],
   "source": [
    "history = model.fit(X_train, y_train, epochs=100, verbose=2, batch_size=16, validation_split=0.2)"
   ]
  },
  {
   "cell_type": "code",
   "execution_count": 53,
   "id": "b56818e6",
   "metadata": {},
   "outputs": [],
   "source": [
    "#Epoch 1'de, eğitim veri setinin yüzde 6.25'i doğru sınıflandırıldı ve \n",
    "#doğrulama (validation) veri setinin yüzde 20.83'ü doğru sınıflandırıldı. \n",
    "#İlk epoch'ta kayıp (loss) 1.1339, doğruluk (accuracy) 0.0625, doğrulama kaybı (val_loss) 1.1097 ve \n",
    "#doğrulama doğruluğu (val_accuracy) 0.2083 olarak hesaplandı."
   ]
  },
  {
   "cell_type": "code",
   "execution_count": 54,
   "id": "bf509be8",
   "metadata": {},
   "outputs": [
    {
     "data": {
      "image/png": "[encoded data removed]",
      "text/plain": [
       "<Figure size 640x480 with 1 Axes>"
      ]
     },
     "metadata": {},
     "output_type": "display_data"
    }
   ],
   "source": [
    "# Dogruluk ile ilgili grafik\n",
    "plt.plot(history.history[\"accuracy\"], \"--\")\n",
    "plt.plot(history.history[\"val_accuracy\"])\n",
    "plt.title(\"Modelin eğitim performansı\")\n",
    "plt.ylabel(\"Doğruluklar\")\n",
    "plt.xlabel(\"Devir (epoch)\")\n",
    "plt.legend([\"Eğitim\", \"Doğrulama\"], loc=\"lower right\")\n",
    "plt.show()"
   ]
  },
  {
   "cell_type": "code",
   "execution_count": 55,
   "id": "78d7fb11",
   "metadata": {},
   "outputs": [
    {
     "data": {
      "image/png": "[encoded data removed]",
      "text/plain": [
       "<Figure size 640x480 with 1 Axes>"
      ]
     },
     "metadata": {},
     "output_type": "display_data"
    }
   ],
   "source": [
    "# Hata grafiği\n",
    "plt.plot(history.history[\"loss\"], \"--\")\n",
    "plt.plot(history.history[\"val_loss\"])\n",
    "plt.title(\"Model hataları\")\n",
    "plt.ylabel(\"Hatalar\")\n",
    "plt.xlabel(\"Devir (epoch)\")\n",
    "plt.legend([\"Eğitim\", \"Doğrulama\"], loc=\"upper right\")\n",
    "plt.show()"
   ]
  },
  {
   "cell_type": "code",
   "execution_count": 56,
   "id": "83e5bb9e",
   "metadata": {},
   "outputs": [
    {
     "name": "stdout",
     "output_type": "stream",
     "text": [
      "1/1 [==============================] - 0s 14ms/step - loss: 0.0096 - accuracy: 1.0000\n",
      "\n",
      "Doğruluk:  1.0\n"
     ]
    }
   ],
   "source": [
    "# Test verisi ile performans ölçümü\n",
    "scores = model.evaluate(X_test, y_test)\n",
    "print(\"\\nDoğruluk: \", scores[1])"
   ]
  },
  {
   "cell_type": "code",
   "execution_count": null,
   "id": "23b51bd0",
   "metadata": {},
   "outputs": [],
   "source": []
  }
 ],
 "metadata": {
  "kernelspec": {
   "display_name": "Python 3 (ipykernel)",
   "language": "python",
   "name": "python3"
  },
  "language_info": {
   "codemirror_mode": {
    "name": "ipython",
    "version": 3
   },
   "file_extension": ".py",
   "mimetype": "text/x-python",
   "name": "python",
   "nbconvert_exporter": "python",
   "pygments_lexer": "ipython3",
   "version": "3.11.5"
  }
 },
 "nbformat": 4,
 "nbformat_minor": 5
}
